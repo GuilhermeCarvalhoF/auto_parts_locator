{
 "cells": [
  {
   "cell_type": "code",
   "execution_count": 1,
   "metadata": {},
   "outputs": [],
   "source": [
    "import requests"
   ]
  },
  {
   "cell_type": "code",
   "execution_count": null,
   "metadata": {},
   "outputs": [
    {
     "name": "stdout",
     "output_type": "stream",
     "text": [
      "Name: Restaurante UNASP, Rua Integrada, Jardim Alvorada, Capão Redondo, São Paulo, Região Imediata de São Paulo, Região Metropolitana de São Paulo, Região Geográfica Intermediária de São Paulo, São Paulo, Região Sudeste, 05858-001, Brasil\n",
      "Latitude: -23.665988300000002, Longitude: -46.78003661020115\n",
      "--------------------------------------------------\n",
      "Name: Restaurante Florenza, 1103, Rua Dona Ruyce Ferraz Alvim, Jardim Maria Helena, Serraria, Diadema, Região Imediata de São Paulo, Região Metropolitana de São Paulo, Região Geográfica Intermediária de São Paulo, São Paulo, Região Sudeste, 09951-002, Brasil\n",
      "Latitude: -23.693380750000003, Longitude: -46.605438975\n",
      "--------------------------------------------------\n",
      "Name: Restaurante Feijão de Corda V, 857, Avenida Antônio Piranga, Vila Mulford, Centro, Diadema, Região Imediata de São Paulo, Região Metropolitana de São Paulo, Região Geográfica Intermediária de São Paulo, São Paulo, Região Sudeste, 09911-160, Brasil\n",
      "Latitude: -23.68551995, Longitude: -46.61587935746979\n",
      "--------------------------------------------------\n",
      "Name: Restaurante Feijão de Corda, Praça do Açurí, Pedreira, São Paulo, Região Imediata de São Paulo, Região Metropolitana de São Paulo, Região Geográfica Intermediária de São Paulo, São Paulo, Região Sudeste, 04462-000, Brasil\n",
      "Latitude: -23.69308835, Longitude: -46.66035739220919\n",
      "--------------------------------------------------\n",
      "Name: Restaurante Farrancho, 822, Rua José Bonifácio, Serraria, Diadema, Região Imediata de São Paulo, Região Metropolitana de São Paulo, Região Geográfica Intermediária de São Paulo, São Paulo, Região Sudeste, 09980-150, Brasil\n",
      "Latitude: -23.700043700000002, Longitude: -46.612106856967415\n",
      "--------------------------------------------------\n",
      "Name: Pérola Negra Pub e Restaurante, 583, Avenida Antônio Piranga, Chácara Húngara, Centro, Diadema, Região Imediata de São Paulo, Região Metropolitana de São Paulo, Região Geográfica Intermediária de São Paulo, São Paulo, Região Sudeste, 09911-160, Brasil\n",
      "Latitude: -23.6858914, Longitude: -46.61874279950037\n",
      "--------------------------------------------------\n",
      "Name: Restaurante Popular Jardim Marilene, 709, Avenida Alberto Jafet, Jardim Marilene, Vila Nogueira, Diadema, Região Imediata de São Paulo, Região Metropolitana de São Paulo, Região Geográfica Intermediária de São Paulo, São Paulo, Região Sudeste, 09960-480, Brasil\n",
      "Latitude: -23.6943562, Longitude: -46.5982784\n",
      "--------------------------------------------------\n",
      "Name: Good Chicken, Rua Prudente de Morais, Jardim Santo Eduardo, Jardim Taima, Embu das Artes, Região Imediata de São Paulo, Região Metropolitana de São Paulo, Região Geográfica Intermediária de São Paulo, São Paulo, Região Sudeste, 06820-185, Brasil\n",
      "Latitude: -23.66475445, Longitude: -46.79895806140966\n",
      "--------------------------------------------------\n",
      "Name: Rei da Pizza, 6113, Rodovia Armando Salles, Jardim Batista, Recreio Campestre, Itapecerica da Serra, Região Imediata de São Paulo, Região Metropolitana de São Paulo, Região Geográfica Intermediária de São Paulo, São Paulo, Região Sudeste, 06824-410, Brasil\n",
      "Latitude: -23.6873037, Longitude: -46.8058401\n",
      "--------------------------------------------------\n",
      "Name: Rei Do Churrasco, Rua Bilac, Jardim Maria Helena, Conceição, Diadema, Região Imediata de São Paulo, Região Metropolitana de São Paulo, Região Geográfica Intermediária de São Paulo, São Paulo, Região Sudeste, 09991-000, Brasil\n",
      "Latitude: -23.69363275, Longitude: -46.6147256489228\n",
      "--------------------------------------------------\n"
     ]
    }
   ],
   "source": [
    "def get_businesses(query, lat, lon):\n",
    "    url = \"https://nominatim.openstreetmap.org/search\"\n",
    "    params = {\n",
    "        \"q\": query,\n",
    "        \"format\": \"json\",\n",
    "        \"limit\": 10,  # Max results\n",
    "        \"bounded\": 1,  # Restrict search to viewbox\n",
    "        \"viewbox\": \"-46.8255,-23.3571,-46.3656,-23.7013\",  # São Paulo city bounds (SW,NE)\n",
    "    }\n",
    "    headers = {\n",
    "        \"User-Agent\": \"MyAutoPartsApp/1.0 (guilhermecarvalho.92@hotmail.com)\"\n",
    "    }\n",
    "\n",
    "    response = requests.get(url, params=params, headers=headers)\n",
    "\n",
    "    if response.status_code != 200:\n",
    "        print(f\"Error: {response.status_code}\")\n",
    "        return []\n",
    "\n",
    "    data = response.json()\n",
    "\n",
    "    for place in data:\n",
    "        print(f\"Name: {place.get('display_name')}\")\n",
    "        print(f\"Latitude: {place.get('lat')}, Longitude: {place.get('lon')}\")\n",
    "        print(\"-\" * 50)\n",
    "\n",
    "# Example: Search for auto repair shops in São Paulo\n",
    "get_businesses(\"restaurante\", -23.55052, -46.633308)\n"
   ]
  },
  {
   "cell_type": "code",
   "execution_count": null,
   "metadata": {},
   "outputs": [],
   "source": []
  },
  {
   "cell_type": "code",
   "execution_count": null,
   "metadata": {},
   "outputs": [],
   "source": []
  },
  {
   "cell_type": "code",
   "execution_count": null,
   "metadata": {},
   "outputs": [],
   "source": []
  }
 ],
 "metadata": {
  "kernelspec": {
   "display_name": "venv",
   "language": "python",
   "name": "python3"
  },
  "language_info": {
   "codemirror_mode": {
    "name": "ipython",
    "version": 3
   },
   "file_extension": ".py",
   "mimetype": "text/x-python",
   "name": "python",
   "nbconvert_exporter": "python",
   "pygments_lexer": "ipython3",
   "version": "3.10.6"
  }
 },
 "nbformat": 4,
 "nbformat_minor": 2
}
